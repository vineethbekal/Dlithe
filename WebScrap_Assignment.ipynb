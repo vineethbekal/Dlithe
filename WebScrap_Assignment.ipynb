{
  "nbformat": 4,
  "nbformat_minor": 0,
  "metadata": {
    "colab": {
      "name": "WebScrap Assignment.ipynb",
      "provenance": [],
      "authorship_tag": "ABX9TyP4sn+sPEwwN1nAK/TMQOEj",
      "include_colab_link": true
    },
    "kernelspec": {
      "name": "python3",
      "display_name": "Python 3"
    }
  },
  "cells": [
    {
      "cell_type": "markdown",
      "metadata": {
        "id": "view-in-github",
        "colab_type": "text"
      },
      "source": [
        "<a href=\"https://colab.research.google.com/github/vineethbekal/Dlithe/blob/master/WebScrap_Assignment.ipynb\" target=\"_parent\"><img src=\"https://colab.research.google.com/assets/colab-badge.svg\" alt=\"Open In Colab\"/></a>"
      ]
    },
    {
      "cell_type": "code",
      "metadata": {
        "id": "YVDVbNrKhYZt",
        "colab_type": "code",
        "colab": {}
      },
      "source": [
        "import requests"
      ],
      "execution_count": null,
      "outputs": []
    },
    {
      "cell_type": "code",
      "metadata": {
        "id": "ZoEpXx2PjfA6",
        "colab_type": "code",
        "colab": {}
      },
      "source": [
        "from selenium import webdriver\n",
        "from bs4 import BeautifulSoup\n",
        "import pandas as pd"
      ],
      "execution_count": null,
      "outputs": []
    },
    {
      "cell_type": "code",
      "metadata": {
        "id": "sOYWmOarm48S",
        "colab_type": "code",
        "colab": {
          "base_uri": "https://localhost:8080/",
          "height": 50
        },
        "outputId": "7bd229bd-53d6-4c45-b1d3-9c7b3bb62632"
      },
      "source": [
        "!pip install selenium\n"
      ],
      "execution_count": null,
      "outputs": [
        {
          "output_type": "stream",
          "text": [
            "Requirement already satisfied: selenium in /usr/local/lib/python3.6/dist-packages (3.141.0)\n",
            "Requirement already satisfied: urllib3 in /usr/local/lib/python3.6/dist-packages (from selenium) (1.24.3)\n"
          ],
          "name": "stdout"
        }
      ]
    },
    {
      "cell_type": "code",
      "metadata": {
        "id": "XX7r63Vsm-XU",
        "colab_type": "code",
        "colab": {
          "base_uri": "https://localhost:8080/",
          "height": 34
        },
        "outputId": "0bbbe9cc-8d14-4ced-bbcb-97548d449299"
      },
      "source": [
        "!pip3 install beautifulsoup4"
      ],
      "execution_count": null,
      "outputs": [
        {
          "output_type": "stream",
          "text": [
            "Requirement already satisfied: beautifulsoup4 in /usr/local/lib/python3.6/dist-packages (4.6.3)\n"
          ],
          "name": "stdout"
        }
      ]
    },
    {
      "cell_type": "code",
      "metadata": {
        "id": "p3qaL-xinMOu",
        "colab_type": "code",
        "colab": {}
      },
      "source": [
        "URL = 'https://www.monster.com/jobs/search/?q=Software-Developer&where=India'\n",
        "page = requests.get(URL)\n",
        "\n",
        "soup = BeautifulSoup(page.content, 'html.parser')"
      ],
      "execution_count": null,
      "outputs": []
    },
    {
      "cell_type": "code",
      "metadata": {
        "id": "JW6zzqGAn9IX",
        "colab_type": "code",
        "colab": {}
      },
      "source": [
        "results = soup.find(id='ResultsContainer')"
      ],
      "execution_count": null,
      "outputs": []
    },
    {
      "cell_type": "code",
      "metadata": {
        "id": "WlV_XKR6uwNU",
        "colab_type": "code",
        "colab": {}
      },
      "source": [
        "job_elems = results.find_all('section', class_='card-content')"
      ],
      "execution_count": null,
      "outputs": []
    },
    {
      "cell_type": "code",
      "metadata": {
        "id": "VmGBAQjlu05e",
        "colab_type": "code",
        "colab": {}
      },
      "source": [
        "job_elem = 0\n",
        "title = []\n",
        "company  = []\n",
        "location = []\n",
        "for job_elem in job_elems:\n",
        "    title_elem = job_elem.find('h2', class_='title')\n",
        "    company_elem = job_elem.find('div', class_='company')\n",
        "    location_elem = job_elem.find('div', class_='location')\n",
        "    if None in (title_elem, company_elem, location_elem):\n",
        "        continue\n",
        "    title.append(title_elem.text.strip())\n",
        "    company.append(company_elem.text.strip())\n",
        "    location.append(location_elem.text.strip())\n",
        " "
      ],
      "execution_count": null,
      "outputs": []
    },
    {
      "cell_type": "code",
      "metadata": {
        "id": "E025aHiWvZff",
        "colab_type": "code",
        "colab": {}
      },
      "source": [
        "df = pd.DataFrame({'Title' : title, 'Company' : company, 'Location' : location})"
      ],
      "execution_count": null,
      "outputs": []
    },
    {
      "cell_type": "code",
      "metadata": {
        "id": "-JNPAMbCx3YY",
        "colab_type": "code",
        "colab": {
          "base_uri": "https://localhost:8080/",
          "height": 817
        },
        "outputId": "a8fc5ff1-96f6-4a8c-86b0-28021aef2385"
      },
      "source": [
        "df"
      ],
      "execution_count": null,
      "outputs": [
        {
          "output_type": "execute_result",
          "data": {
            "text/html": [
              "<div>\n",
              "<style scoped>\n",
              "    .dataframe tbody tr th:only-of-type {\n",
              "        vertical-align: middle;\n",
              "    }\n",
              "\n",
              "    .dataframe tbody tr th {\n",
              "        vertical-align: top;\n",
              "    }\n",
              "\n",
              "    .dataframe thead th {\n",
              "        text-align: right;\n",
              "    }\n",
              "</style>\n",
              "<table border=\"1\" class=\"dataframe\">\n",
              "  <thead>\n",
              "    <tr style=\"text-align: right;\">\n",
              "      <th></th>\n",
              "      <th>Title</th>\n",
              "      <th>Company</th>\n",
              "      <th>Location</th>\n",
              "    </tr>\n",
              "  </thead>\n",
              "  <tbody>\n",
              "    <tr>\n",
              "      <th>0</th>\n",
              "      <td>Senior Software Developer</td>\n",
              "      <td>Aurigo</td>\n",
              "      <td>Bangalore, KT</td>\n",
              "    </tr>\n",
              "    <tr>\n",
              "      <th>1</th>\n",
              "      <td>Principal Software Development Engineer – AWS ...</td>\n",
              "      <td>EagleView Technologies</td>\n",
              "      <td>Bengaluru, KT</td>\n",
              "    </tr>\n",
              "    <tr>\n",
              "      <th>2</th>\n",
              "      <td>Software Engineer - Machine Learning</td>\n",
              "      <td>Twilio</td>\n",
              "      <td>Bangalore New York City Municipal Corporation ...</td>\n",
              "    </tr>\n",
              "    <tr>\n",
              "      <th>3</th>\n",
              "      <td>Software Engineer (Client Support )</td>\n",
              "      <td>International Decision Systems</td>\n",
              "      <td>Bengaluru, KT</td>\n",
              "    </tr>\n",
              "    <tr>\n",
              "      <th>4</th>\n",
              "      <td>Software Engineer Outlook Plugin</td>\n",
              "      <td>Jobskey Consultancy</td>\n",
              "      <td>Banglore, KT</td>\n",
              "    </tr>\n",
              "    <tr>\n",
              "      <th>5</th>\n",
              "      <td>Senior Software Engineer - Bengaluru, Karnataka</td>\n",
              "      <td>STATS</td>\n",
              "      <td>Bengaluru, KT</td>\n",
              "    </tr>\n",
              "    <tr>\n",
              "      <th>6</th>\n",
              "      <td>Software Engineer II (React.js) - Bengaluru, K...</td>\n",
              "      <td>EagleView Technologies</td>\n",
              "      <td>Bengaluru, KT</td>\n",
              "    </tr>\n",
              "    <tr>\n",
              "      <th>7</th>\n",
              "      <td>Member Technical Staff (.Net Developer)</td>\n",
              "      <td>Aurigo</td>\n",
              "      <td>Bangalore, KT</td>\n",
              "    </tr>\n",
              "    <tr>\n",
              "      <th>8</th>\n",
              "      <td>Software Engineer - FullStack</td>\n",
              "      <td>Twilio</td>\n",
              "      <td>Bangalore New York City Municipal Corporation ...</td>\n",
              "    </tr>\n",
              "    <tr>\n",
              "      <th>9</th>\n",
              "      <td>Software Engineer - Bengaluru, Karnataka</td>\n",
              "      <td>STATS</td>\n",
              "      <td>Bengaluru, KT</td>\n",
              "    </tr>\n",
              "    <tr>\n",
              "      <th>10</th>\n",
              "      <td>Windows Administrator</td>\n",
              "      <td>SNI Technology</td>\n",
              "      <td>Canoe Creek, IL</td>\n",
              "    </tr>\n",
              "    <tr>\n",
              "      <th>11</th>\n",
              "      <td>Senior Software Engineer (React.js) - Bengalur...</td>\n",
              "      <td>EagleView Technologies</td>\n",
              "      <td>Bengaluru, KT</td>\n",
              "    </tr>\n",
              "    <tr>\n",
              "      <th>12</th>\n",
              "      <td>Senior Salesforce Developer</td>\n",
              "      <td>Twilio</td>\n",
              "      <td>Bangalore New York City Municipal Corporation ...</td>\n",
              "    </tr>\n",
              "    <tr>\n",
              "      <th>13</th>\n",
              "      <td>Web Developer &amp; IT Applications SME</td>\n",
              "      <td>Aurigo</td>\n",
              "      <td>Bangalore, KT</td>\n",
              "    </tr>\n",
              "    <tr>\n",
              "      <th>14</th>\n",
              "      <td>Software Engineer II (React.js) - Bengaluru, K...</td>\n",
              "      <td>EagleView Technologies</td>\n",
              "      <td>Bengaluru, KT</td>\n",
              "    </tr>\n",
              "    <tr>\n",
              "      <th>15</th>\n",
              "      <td>Senior Software Engineer (Backend) - Bengaluru...</td>\n",
              "      <td>EagleView Technologies</td>\n",
              "      <td>Bengaluru, KT</td>\n",
              "    </tr>\n",
              "    <tr>\n",
              "      <th>16</th>\n",
              "      <td>Senior Software Engineer (Computational Geomet...</td>\n",
              "      <td>EagleView Technologies</td>\n",
              "      <td>Bengaluru, KT</td>\n",
              "    </tr>\n",
              "    <tr>\n",
              "      <th>17</th>\n",
              "      <td>Senior Software Engineer - IW - Bengaluru, Kar...</td>\n",
              "      <td>EagleView Technologies</td>\n",
              "      <td>Bengaluru, KT</td>\n",
              "    </tr>\n",
              "    <tr>\n",
              "      <th>18</th>\n",
              "      <td>Software Architect</td>\n",
              "      <td>International Decision Systems</td>\n",
              "      <td>Bengaluru, KT</td>\n",
              "    </tr>\n",
              "    <tr>\n",
              "      <th>19</th>\n",
              "      <td>Software Architect - Machine Learning</td>\n",
              "      <td>Twilio</td>\n",
              "      <td>Bangalore New York City Municipal Corporation ...</td>\n",
              "    </tr>\n",
              "    <tr>\n",
              "      <th>20</th>\n",
              "      <td>Member Technical Staff</td>\n",
              "      <td>Aurigo</td>\n",
              "      <td>Bangalore, KT</td>\n",
              "    </tr>\n",
              "    <tr>\n",
              "      <th>21</th>\n",
              "      <td>Mobile Engineering Manager</td>\n",
              "      <td>Jobskey Consultancy</td>\n",
              "      <td>Bangalore, KT</td>\n",
              "    </tr>\n",
              "    <tr>\n",
              "      <th>22</th>\n",
              "      <td>Associate Development Manager</td>\n",
              "      <td>International Decision Systems</td>\n",
              "      <td>Bangaluru, KT</td>\n",
              "    </tr>\n",
              "    <tr>\n",
              "      <th>23</th>\n",
              "      <td>Talent Researcher (Sourcer) - Contract</td>\n",
              "      <td>Twilio</td>\n",
              "      <td>Bangalore New York City Municipal Corporation ...</td>\n",
              "    </tr>\n",
              "    <tr>\n",
              "      <th>24</th>\n",
              "      <td>Senior Quality Engineer</td>\n",
              "      <td>Aurigo</td>\n",
              "      <td>Bangalore, KT</td>\n",
              "    </tr>\n",
              "    <tr>\n",
              "      <th>25</th>\n",
              "      <td>Hybris Designer</td>\n",
              "      <td>Jobskey Consultancy</td>\n",
              "      <td>Banglore, KT</td>\n",
              "    </tr>\n",
              "  </tbody>\n",
              "</table>\n",
              "</div>"
            ],
            "text/plain": [
              "                                                Title  ...                                           Location\n",
              "0                           Senior Software Developer  ...                                      Bangalore, KT\n",
              "1   Principal Software Development Engineer – AWS ...  ...                                      Bengaluru, KT\n",
              "2                Software Engineer - Machine Learning  ...  Bangalore New York City Municipal Corporation ...\n",
              "3                 Software Engineer (Client Support )  ...                                      Bengaluru, KT\n",
              "4                    Software Engineer Outlook Plugin  ...                                       Banglore, KT\n",
              "5     Senior Software Engineer - Bengaluru, Karnataka  ...                                      Bengaluru, KT\n",
              "6   Software Engineer II (React.js) - Bengaluru, K...  ...                                      Bengaluru, KT\n",
              "7             Member Technical Staff (.Net Developer)  ...                                      Bangalore, KT\n",
              "8                       Software Engineer - FullStack  ...  Bangalore New York City Municipal Corporation ...\n",
              "9            Software Engineer - Bengaluru, Karnataka  ...                                      Bengaluru, KT\n",
              "10                              Windows Administrator  ...                                    Canoe Creek, IL\n",
              "11  Senior Software Engineer (React.js) - Bengalur...  ...                                      Bengaluru, KT\n",
              "12                        Senior Salesforce Developer  ...  Bangalore New York City Municipal Corporation ...\n",
              "13                Web Developer & IT Applications SME  ...                                      Bangalore, KT\n",
              "14  Software Engineer II (React.js) - Bengaluru, K...  ...                                      Bengaluru, KT\n",
              "15  Senior Software Engineer (Backend) - Bengaluru...  ...                                      Bengaluru, KT\n",
              "16  Senior Software Engineer (Computational Geomet...  ...                                      Bengaluru, KT\n",
              "17  Senior Software Engineer - IW - Bengaluru, Kar...  ...                                      Bengaluru, KT\n",
              "18                                 Software Architect  ...                                      Bengaluru, KT\n",
              "19              Software Architect - Machine Learning  ...  Bangalore New York City Municipal Corporation ...\n",
              "20                             Member Technical Staff  ...                                      Bangalore, KT\n",
              "21                         Mobile Engineering Manager  ...                                      Bangalore, KT\n",
              "22                      Associate Development Manager  ...                                      Bangaluru, KT\n",
              "23             Talent Researcher (Sourcer) - Contract  ...  Bangalore New York City Municipal Corporation ...\n",
              "24                            Senior Quality Engineer  ...                                      Bangalore, KT\n",
              "25                                    Hybris Designer  ...                                       Banglore, KT\n",
              "\n",
              "[26 rows x 3 columns]"
            ]
          },
          "metadata": {
            "tags": []
          },
          "execution_count": 20
        }
      ]
    },
    {
      "cell_type": "code",
      "metadata": {
        "id": "4Yu__S7Ex4-Y",
        "colab_type": "code",
        "colab": {}
      },
      "source": [
        ""
      ],
      "execution_count": null,
      "outputs": []
    }
  ]
}